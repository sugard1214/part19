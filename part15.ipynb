{
 "cells": [
  {
   "cell_type": "code",
   "execution_count": 50,
   "metadata": {},
   "outputs": [],
   "source": [
    "class Card:\n",
    "    suits = [\"spades\",\"hearts\",\"diamonds\",\"clubs\"]\n",
    "    values = [None,None,\"2\",\"3\",\"4\",\"5\",\"6\",\"7\",\"8\",\"9\",\"10\",\"Jack\",\"Queen\",\"King\",\"Ace\"]\n",
    "    \n",
    "    def __init__(self,v,s):\n",
    "        self.value = v\n",
    "        self.suit = s\n",
    "        \n",
    "    def __lt__(self,c2):\n",
    "        if self.value < c2.value:\n",
    "            return True\n",
    "        if self.value == c2.value:\n",
    "            if self.suit < c2.suit:\n",
    "                return True\n",
    "            else:\n",
    "                return False\n",
    "            \n",
    "    def __gt__(self,c2):\n",
    "        if self.value > c2.value:\n",
    "                return True\n",
    "        if self.value == c2.value:\n",
    "            if self.suit > c2.suit:\n",
    "                return True\n",
    "            else:\n",
    "                return False\n",
    "        return False\n",
    "    \n",
    "    def __repr__(self):\n",
    "        v = self.values[self.value] + \" of \" \\\n",
    "            + self.suits[self.suit]\n",
    "        return v"
   ]
  },
  {
   "cell_type": "code",
   "execution_count": 51,
   "metadata": {},
   "outputs": [
    {
     "name": "stdout",
     "output_type": "stream",
     "text": [
      "True\n",
      "False\n",
      "10 of diamonds\n",
      "Jack of clubs\n"
     ]
    }
   ],
   "source": [
    "card1 = Card(10,2)\n",
    "card2 = Card(11,3)\n",
    "print(card1 < card2)\n",
    "print(card1 > card2)\n",
    "print(card1)\n",
    "print(card2)"
   ]
  },
  {
   "cell_type": "code",
   "execution_count": 32,
   "metadata": {},
   "outputs": [],
   "source": [
    "from random import shuffle\n",
    "\n",
    "class Deck:\n",
    "    def __init__(self):\n",
    "        self.cards = []\n",
    "        for i in range(2,15):\n",
    "            for j in range(4):\n",
    "                self.cards.append(Card(i,j))\n",
    "        shuffle(self.cards)\n",
    "        \n",
    "    def rm_card(self):\n",
    "        if len(self.cards) == 0:\n",
    "            return\n",
    "        return self.cards.pop()\n",
    "        \n",
    "                "
   ]
  },
  {
   "cell_type": "code",
   "execution_count": 34,
   "metadata": {},
   "outputs": [
    {
     "name": "stdout",
     "output_type": "stream",
     "text": [
      "5 of clubs\n",
      "Ace of spades\n",
      "6 of diamonds\n",
      "5 of diamonds\n",
      "Jack of diamonds\n",
      "Queen of hearts\n",
      "7 of hearts\n",
      "7 of spades\n",
      "3 of clubs\n",
      "4 of spades\n",
      "King of spades\n",
      "8 of clubs\n",
      "2 of spades\n",
      "8 of diamonds\n",
      "10 of diamonds\n",
      "2 of clubs\n",
      "9 of diamonds\n",
      "King of diamonds\n",
      "6 of hearts\n",
      "2 of hearts\n",
      "Jack of spades\n",
      "3 of hearts\n",
      "9 of clubs\n",
      "9 of spades\n",
      "9 of hearts\n",
      "King of clubs\n",
      "8 of spades\n",
      "Ace of diamonds\n",
      "5 of spades\n",
      "King of hearts\n",
      "Queen of clubs\n",
      "6 of clubs\n",
      "2 of diamonds\n",
      "Jack of clubs\n",
      "3 of spades\n",
      "Ace of clubs\n",
      "10 of spades\n",
      "4 of clubs\n",
      "Jack of hearts\n",
      "8 of hearts\n",
      "10 of clubs\n",
      "Queen of diamonds\n",
      "Queen of spades\n",
      "10 of hearts\n",
      "7 of diamonds\n",
      "5 of hearts\n",
      "Ace of hearts\n",
      "7 of clubs\n",
      "4 of hearts\n",
      "3 of diamonds\n",
      "4 of diamonds\n",
      "6 of spades\n"
     ]
    }
   ],
   "source": [
    "deck = Deck()\n",
    "for card in deck.cards:\n",
    "    print(card)"
   ]
  },
  {
   "cell_type": "code",
   "execution_count": 35,
   "metadata": {},
   "outputs": [],
   "source": [
    "class Player:\n",
    "    def __init__(self,name):\n",
    "        self.name = name\n",
    "        self.card = None\n",
    "        self.wins = 0"
   ]
  },
  {
   "cell_type": "code",
   "execution_count": 36,
   "metadata": {},
   "outputs": [],
   "source": [
    "class Game:\n",
    "    def __init__(self):\n",
    "        name1 = input(\"プレイヤー１の名前\")\n",
    "        name2 = input(\"プレイヤー２の名前\")\n",
    "        self.deck  = Deck()\n",
    "        self.p1 = Player(name1)\n",
    "        self.p2 = Player(name2)\n",
    "        \n",
    "    def wins(self,winner):\n",
    "        w = \"このラウンドは{}が勝ちました\"\n",
    "        w = w.format(winner)\n",
    "        print(w)\n",
    "        \n",
    "    def draw(self,p1n,p1c,p2n,p2c):\n",
    "        d = \"{}は{}、{}は{}を引きました\"\n",
    "        d = d.format(p1n,p1c,p2n,p2c)\n",
    "        print(d)\n",
    "        \n",
    "    def play_game(self):\n",
    "        cards = self.deck.cards\n",
    "        print(\"戦争を始めます\")\n",
    "        while len(cards) >= 2:\n",
    "            m = \"qで終了、それ以外のキーでPlay:\"\n",
    "            response = input(m)\n",
    "            if response == 'q':\n",
    "                break\n",
    "            p1c = self.deck.rm_card()\n",
    "            p2c = self.deck.rm_card()\n",
    "            p1n = self.p1.name\n",
    "            p2n = self.p2.name\n",
    "            self.draw(p1n,p1c,p2n,p2c)\n",
    "            if p1c > p2c:\n",
    "                self.p1.wins += 1\n",
    "                self.wins(self.p1.name)\n",
    "            else:\n",
    "                self.p2.wins += 1\n",
    "                self.wins(self.p2.name)\n",
    "                \n",
    "            win = self.winner(self.p1,self.p2)\n",
    "            print(\"ゲームの終了です。{}の勝利です\".format(win))\n",
    "            \n",
    "    def winner(self,p1,p2):\n",
    "        if p1.wins > p2.wins:\n",
    "            return p1.name\n",
    "        if p1.wins < p2.wins:\n",
    "            return p2.name\n",
    "        return \"引き分け\""
   ]
  },
  {
   "cell_type": "code",
   "execution_count": 39,
   "metadata": {},
   "outputs": [
    {
     "name": "stdout",
     "output_type": "stream",
     "text": [
      "プレイヤー１の名前sato\n",
      "プレイヤー２の名前saito\n",
      "戦争を始めます\n",
      "qで終了、それ以外のキーでPlay:a\n",
      "satoは5 of spades、saitoは8 of diamondsを引きました\n",
      "このラウンドはsaitoが勝ちました\n",
      "ゲームの終了ですsaitoの勝利です\n",
      "qで終了、それ以外のキーでPlay:q\n"
     ]
    }
   ],
   "source": [
    "game = Game()\n",
    "game.play_game()"
   ]
  },
  {
   "cell_type": "code",
   "execution_count": null,
   "metadata": {},
   "outputs": [],
   "source": []
  },
  {
   "cell_type": "code",
   "execution_count": null,
   "metadata": {},
   "outputs": [],
   "source": []
  }
 ],
 "metadata": {
  "kernelspec": {
   "display_name": "Python 3",
   "language": "python",
   "name": "python3"
  },
  "language_info": {
   "codemirror_mode": {
    "name": "ipython",
    "version": 3
   },
   "file_extension": ".py",
   "mimetype": "text/x-python",
   "name": "python",
   "nbconvert_exporter": "python",
   "pygments_lexer": "ipython3",
   "version": "3.5.6"
  }
 },
 "nbformat": 4,
 "nbformat_minor": 2
}
