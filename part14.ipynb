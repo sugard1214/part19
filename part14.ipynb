{
 "cells": [
  {
   "cell_type": "code",
   "execution_count": 1,
   "metadata": {},
   "outputs": [
    {
     "name": "stdout",
     "output_type": "stream",
     "text": [
      "<class '__main__.Square'>\n"
     ]
    }
   ],
   "source": [
    "class Square:\n",
    "    pass\n",
    "\n",
    "print(Square)"
   ]
  },
  {
   "cell_type": "code",
   "execution_count": 5,
   "metadata": {},
   "outputs": [
    {
     "name": "stdout",
     "output_type": "stream",
     "text": [
      "[(10, 24), (20, 40), (100, 200)]\n"
     ]
    }
   ],
   "source": [
    "class Rectangle:\n",
    "    recs = []\n",
    "\n",
    "    def __init__(self,w,l):\n",
    "        self.width = w\n",
    "        self.length = l\n",
    "        self.recs.append((self.width,self.length))\n",
    "        \n",
    "    def print_size(self):\n",
    "        print(\"{} by {}\".format(self.width,self.length))\n",
    "        \n",
    "r1 = Rectangle(10,24)\n",
    "r2 = Rectangle(20,40)\n",
    "r3 = Rectangle(100,200)\n",
    "\n",
    "print(Rectangle.recs)\n"
   ]
  },
  {
   "cell_type": "code",
   "execution_count": 7,
   "metadata": {},
   "outputs": [
    {
     "name": "stdout",
     "output_type": "stream",
     "text": [
      "Dilbert\n"
     ]
    }
   ],
   "source": [
    "class Lion:\n",
    "    def __init__(self,name):\n",
    "        self.name = name\n",
    "        \n",
    "    def __repr__(self):\n",
    "        return self.name\n",
    "        \n",
    "lion = Lion(\"Dilbert\")\n",
    "print(lion)"
   ]
  },
  {
   "cell_type": "code",
   "execution_count": 11,
   "metadata": {},
   "outputs": [
    {
     "name": "stdout",
     "output_type": "stream",
     "text": [
      "10\n"
     ]
    }
   ],
   "source": [
    "class AlwaysPositive:\n",
    "    def __init__(self,number):\n",
    "        self.n = number\n",
    "        \n",
    "    def __add__(self,other):\n",
    "        return abs(self.n + other.n)\n",
    "    \n",
    "x = AlwaysPositive(-20)\n",
    "y = AlwaysPositive(10)\n",
    "\n",
    "print(x+y)"
   ]
  },
  {
   "cell_type": "code",
   "execution_count": 13,
   "metadata": {},
   "outputs": [
    {
     "name": "stdout",
     "output_type": "stream",
     "text": [
      "True\n",
      "False\n"
     ]
    }
   ],
   "source": [
    "class Person:\n",
    "    def __init__(self):\n",
    "        self.name = \"Bob\"\n",
    "        \n",
    "bob = Person()\n",
    "same_bob = bob\n",
    "print(bob is same_bob)\n",
    "\n",
    "anothor_bob = Person()\n",
    "print(bob is anothor_bob)\n"
   ]
  },
  {
   "cell_type": "code",
   "execution_count": 15,
   "metadata": {},
   "outputs": [
    {
     "name": "stdout",
     "output_type": "stream",
     "text": [
      "xはNoneじゃない\n",
      "xはNone\n"
     ]
    }
   ],
   "source": [
    "x = 10\n",
    "if x is None:\n",
    "    print(\"xはNone\")\n",
    "else:\n",
    "    print(\"xはNoneじゃない\")\n",
    "    \n",
    "x = None\n",
    "if x is None:\n",
    "    print(\"xはNone\")\n",
    "else:\n",
    "    print(\"xはNoneじゃない\")\n"
   ]
  },
  {
   "cell_type": "code",
   "execution_count": 7,
   "metadata": {},
   "outputs": [
    {
     "name": "stdout",
     "output_type": "stream",
     "text": [
      "[10, 20, 30]\n"
     ]
    }
   ],
   "source": [
    "class Square:\n",
    "    square_list = []\n",
    "    def __init__(self,length):\n",
    "        self.length = length\n",
    "        self.square_list.append(self.length)\n",
    "\n",
    "        \n",
    "s1 = Square(10)\n",
    "s2 = Square(20)\n",
    "s3 = Square(30)\n",
    "\n",
    "print(Square.square_list)"
   ]
  },
  {
   "cell_type": "code",
   "execution_count": 23,
   "metadata": {},
   "outputs": [
    {
     "name": "stdout",
     "output_type": "stream",
     "text": [
      "29 by 29 by 29 by 29\n"
     ]
    }
   ],
   "source": [
    "class Square:\n",
    "    def __init__(self,length):\n",
    "        self.length = length\n",
    "        \n",
    "    def __repr__(self):\n",
    "        return \"{} by {} by {} by {}\".format(self.length,self.length,self.length,self.length)\n",
    "        \n",
    "s1 = Square(29)\n",
    "print(s1)"
   ]
  },
  {
   "cell_type": "code",
   "execution_count": 26,
   "metadata": {},
   "outputs": [
    {
     "name": "stdout",
     "output_type": "stream",
     "text": [
      "False\n"
     ]
    }
   ],
   "source": [
    "class Person:\n",
    "    def __init__(self,name):\n",
    "        self.name = name\n",
    "        \n",
    "bob1 = Person(\"bob1\")\n",
    "bob2 = Person(\"bob2\")\n",
    "\n",
    "print(bob1 is bob2)"
   ]
  },
  {
   "cell_type": "code",
   "execution_count": 28,
   "metadata": {},
   "outputs": [
    {
     "data": {
      "text/plain": [
       "True"
      ]
     },
     "execution_count": 28,
     "metadata": {},
     "output_type": "execute_result"
    }
   ],
   "source": [
    "def compare(name1,name2):\n",
    "    return name1 is name2\n",
    "\n",
    "compare(\"b\",\"b\")"
   ]
  },
  {
   "cell_type": "code",
   "execution_count": null,
   "metadata": {},
   "outputs": [],
   "source": []
  }
 ],
 "metadata": {
  "kernelspec": {
   "display_name": "Python 3",
   "language": "python",
   "name": "python3"
  },
  "language_info": {
   "codemirror_mode": {
    "name": "ipython",
    "version": 3
   },
   "file_extension": ".py",
   "mimetype": "text/x-python",
   "name": "python",
   "nbconvert_exporter": "python",
   "pygments_lexer": "ipython3",
   "version": "3.5.6"
  }
 },
 "nbformat": 4,
 "nbformat_minor": 2
}
