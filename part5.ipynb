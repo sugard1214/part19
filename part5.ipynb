{
 "cells": [
  {
   "cell_type": "code",
   "execution_count": 5,
   "metadata": {},
   "outputs": [
    {
     "data": {
      "text/plain": [
       "'hello'"
      ]
     },
     "execution_count": 5,
     "metadata": {},
     "output_type": "execute_result"
    }
   ],
   "source": [
    "\"hello\".upper()\n",
    "\"hello\".replace(\"@\",\"o\")"
   ]
  },
  {
   "cell_type": "code",
   "execution_count": 9,
   "metadata": {},
   "outputs": [
    {
     "data": {
      "text/plain": [
       "['Apple', 'Orange', 'Pear', 'Banana', 'Peach']"
      ]
     },
     "execution_count": 9,
     "metadata": {},
     "output_type": "execute_result"
    }
   ],
   "source": [
    "fruit = [\"Apple\",\"Orange\",\"Pear\"]\n",
    "fruit.append(\"Banana\")\n",
    "fruit.append(\"Peach\")\n",
    "fruit"
   ]
  },
  {
   "cell_type": "code",
   "execution_count": 10,
   "metadata": {},
   "outputs": [
    {
     "data": {
      "text/plain": [
       "[True, 100, 1.1, 'HELLO']"
      ]
     },
     "execution_count": 10,
     "metadata": {},
     "output_type": "execute_result"
    }
   ],
   "source": [
    "random = []\n",
    "random.append(True)\n",
    "random.append(100)\n",
    "random.append(1.1)\n",
    "random.append(\"HELLO\")\n",
    "random"
   ]
  },
  {
   "cell_type": "code",
   "execution_count": 15,
   "metadata": {},
   "outputs": [
    {
     "data": {
      "text/plain": [
       "'Aplle'"
      ]
     },
     "execution_count": 15,
     "metadata": {},
     "output_type": "execute_result"
    }
   ],
   "source": [
    "fruit = [\"Aplle\",\"Orange\",\"Pear\"]\n",
    "fruit[0]"
   ]
  },
  {
   "cell_type": "code",
   "execution_count": 16,
   "metadata": {},
   "outputs": [
    {
     "data": {
      "text/plain": [
       "'Orange'"
      ]
     },
     "execution_count": 16,
     "metadata": {},
     "output_type": "execute_result"
    }
   ],
   "source": [
    "fruit[1]"
   ]
  },
  {
   "cell_type": "code",
   "execution_count": 17,
   "metadata": {},
   "outputs": [
    {
     "data": {
      "text/plain": [
       "'Pear'"
      ]
     },
     "execution_count": 17,
     "metadata": {},
     "output_type": "execute_result"
    }
   ],
   "source": [
    "fruit[2]"
   ]
  },
  {
   "cell_type": "code",
   "execution_count": 19,
   "metadata": {},
   "outputs": [
    {
     "ename": "IndexError",
     "evalue": "list index out of range",
     "output_type": "error",
     "traceback": [
      "\u001b[1;31m---------------------------------------------------------------------------\u001b[0m",
      "\u001b[1;31mIndexError\u001b[0m                                Traceback (most recent call last)",
      "\u001b[1;32m<ipython-input-19-8e2553fd7de9>\u001b[0m in \u001b[0;36m<module>\u001b[1;34m()\u001b[0m\n\u001b[1;32m----> 1\u001b[1;33m \u001b[0mfruit\u001b[0m\u001b[1;33m[\u001b[0m\u001b[1;36m3\u001b[0m\u001b[1;33m]\u001b[0m\u001b[1;33m\u001b[0m\u001b[0m\n\u001b[0m",
      "\u001b[1;31mIndexError\u001b[0m: list index out of range"
     ]
    }
   ],
   "source": [
    "fruit[3]"
   ]
  },
  {
   "cell_type": "code",
   "execution_count": 25,
   "metadata": {},
   "outputs": [
    {
     "data": {
      "text/plain": [
       "'red'"
      ]
     },
     "execution_count": 25,
     "metadata": {},
     "output_type": "execute_result"
    }
   ],
   "source": [
    "colors = [\"blue\",\"green\",\"yellow\"]\n",
    "colors\n",
    "colors[2] = \"red\"\n",
    "colors\n",
    "\n",
    "item = colors.pop()\n",
    "item"
   ]
  },
  {
   "cell_type": "code",
   "execution_count": 26,
   "metadata": {},
   "outputs": [
    {
     "data": {
      "text/plain": [
       "['blue', 'green']"
      ]
     },
     "execution_count": 26,
     "metadata": {},
     "output_type": "execute_result"
    }
   ],
   "source": [
    "colors"
   ]
  },
  {
   "cell_type": "code",
   "execution_count": 32,
   "metadata": {},
   "outputs": [
    {
     "data": {
      "text/plain": [
       "True"
      ]
     },
     "execution_count": 32,
     "metadata": {},
     "output_type": "execute_result"
    }
   ],
   "source": [
    "colors1 = [\"blue\",\"green\",\"yellow\"]\n",
    "colors2 = [\"orange\",\"pink\",\"black\"]\n",
    "colors3 = colors1 + colors2\n",
    "colors3\n",
    "\"green\" in colors3\n",
    "\"red\" not in colors3"
   ]
  },
  {
   "cell_type": "code",
   "execution_count": 33,
   "metadata": {},
   "outputs": [
    {
     "data": {
      "text/plain": [
       "2"
      ]
     },
     "execution_count": 33,
     "metadata": {},
     "output_type": "execute_result"
    }
   ],
   "source": [
    "len(colors)"
   ]
  },
  {
   "cell_type": "code",
   "execution_count": 35,
   "metadata": {},
   "outputs": [
    {
     "name": "stdout",
     "output_type": "stream",
     "text": [
      "何色でしょう？(入力してください):greeeee\n",
      "不正解\n"
     ]
    }
   ],
   "source": [
    "colors = [\"purple\",\"prange\",\"green\"]\n",
    "\n",
    "guess = input(\"何色でしょう？(入力してください):\")\n",
    "\n",
    "if guess in colors:\n",
    "    print(\"正解\")\n",
    "    \n",
    "else:\n",
    "    print(\"不正解\")"
   ]
  },
  {
   "cell_type": "code",
   "execution_count": 1,
   "metadata": {},
   "outputs": [
    {
     "data": {
      "text/plain": [
       "('M.Jackson', '1958', 'TRUE')"
      ]
     },
     "execution_count": 1,
     "metadata": {},
     "output_type": "execute_result"
    }
   ],
   "source": [
    "rndm = (\"M.Jackson\",\"1958\",\"TRUE\")\n",
    "rndm"
   ]
  },
  {
   "cell_type": "code",
   "execution_count": 4,
   "metadata": {},
   "outputs": [
    {
     "data": {
      "text/plain": [
       "('self_taught',)"
      ]
     },
     "execution_count": 4,
     "metadata": {},
     "output_type": "execute_result"
    }
   ],
   "source": [
    "(\"self_taught\",)"
   ]
  },
  {
   "cell_type": "code",
   "execution_count": 10,
   "metadata": {},
   "outputs": [
    {
     "ename": "TypeError",
     "evalue": "'tuple' object does not support item assignment",
     "output_type": "error",
     "traceback": [
      "\u001b[1;31m---------------------------------------------------------------------------\u001b[0m",
      "\u001b[1;31mTypeError\u001b[0m                                 Traceback (most recent call last)",
      "\u001b[1;32m<ipython-input-10-ef2cdaa750d1>\u001b[0m in \u001b[0;36m<module>\u001b[1;34m()\u001b[0m\n\u001b[0;32m      1\u001b[0m \u001b[0mdys\u001b[0m \u001b[1;33m=\u001b[0m \u001b[1;33m(\u001b[0m\u001b[1;34m\"1984\"\u001b[0m\u001b[1;33m,\u001b[0m\u001b[1;34m\"Brave New World\"\u001b[0m\u001b[1;33m,\u001b[0m\u001b[1;34m\"Fahrenheit 451\"\u001b[0m\u001b[1;33m)\u001b[0m\u001b[1;33m\u001b[0m\u001b[0m\n\u001b[1;32m----> 2\u001b[1;33m \u001b[0mdys\u001b[0m\u001b[1;33m[\u001b[0m\u001b[1;36m1\u001b[0m\u001b[1;33m]\u001b[0m \u001b[1;33m=\u001b[0m \u001b[1;34m\"Handmaid Tale\"\u001b[0m\u001b[1;33m\u001b[0m\u001b[0m\n\u001b[0m\u001b[0;32m      3\u001b[0m \u001b[0mdys\u001b[0m\u001b[1;33m\u001b[0m\u001b[0m\n",
      "\u001b[1;31mTypeError\u001b[0m: 'tuple' object does not support item assignment"
     ]
    }
   ],
   "source": [
    "dys = (\"1984\",\"Brave New World\",\"Fahrenheit 451\")\n",
    "dys[1] = \"Handmaid Tale\""
   ]
  },
  {
   "cell_type": "code",
   "execution_count": 11,
   "metadata": {},
   "outputs": [
    {
     "data": {
      "text/plain": [
       "'Fahrenheit 451'"
      ]
     },
     "execution_count": 11,
     "metadata": {},
     "output_type": "execute_result"
    }
   ],
   "source": [
    "dys = (\"1984\",\"Brave New World\",\"Fahrenheit 451\")\n",
    "dys[2]"
   ]
  },
  {
   "cell_type": "code",
   "execution_count": 17,
   "metadata": {},
   "outputs": [
    {
     "data": {
      "text/plain": [
       "True"
      ]
     },
     "execution_count": 17,
     "metadata": {},
     "output_type": "execute_result"
    }
   ],
   "source": [
    "dys = (\"1984\",\"Brave New World\",\"Fahrenheit 451\")\n",
    "'1984' in dys"
   ]
  },
  {
   "cell_type": "code",
   "execution_count": 18,
   "metadata": {},
   "outputs": [
    {
     "data": {
      "text/plain": [
       "True"
      ]
     },
     "execution_count": 18,
     "metadata": {},
     "output_type": "execute_result"
    }
   ],
   "source": [
    "dys = (\"1984\",\"Brave New World\",\"Fahrenheit 451\")\n",
    "\"Handmaid Tale\"not in dys"
   ]
  },
  {
   "cell_type": "code",
   "execution_count": 24,
   "metadata": {},
   "outputs": [
    {
     "data": {
      "text/plain": [
       "{}"
      ]
     },
     "execution_count": 24,
     "metadata": {},
     "output_type": "execute_result"
    }
   ],
   "source": [
    "my_dict = dict()\n",
    "my_dict"
   ]
  },
  {
   "cell_type": "code",
   "execution_count": 26,
   "metadata": {},
   "outputs": [
    {
     "data": {
      "text/plain": [
       "{}"
      ]
     },
     "execution_count": 26,
     "metadata": {},
     "output_type": "execute_result"
    }
   ],
   "source": [
    "my_dict = {}\n",
    "my_dict"
   ]
  },
  {
   "cell_type": "code",
   "execution_count": 29,
   "metadata": {},
   "outputs": [
    {
     "ename": "KeyError",
     "evalue": "'red'",
     "output_type": "error",
     "traceback": [
      "\u001b[1;31m---------------------------------------------------------------------------\u001b[0m",
      "\u001b[1;31mKeyError\u001b[0m                                  Traceback (most recent call last)",
      "\u001b[1;32m<ipython-input-29-c918f82eb909>\u001b[0m in \u001b[0;36m<module>\u001b[1;34m()\u001b[0m\n\u001b[0;32m      1\u001b[0m \u001b[0mfruits\u001b[0m \u001b[1;33m=\u001b[0m \u001b[1;33m{\u001b[0m\u001b[1;34m\"Apple\"\u001b[0m\u001b[1;33m:\u001b[0m\u001b[1;34m\"red\"\u001b[0m\u001b[1;33m,\u001b[0m\u001b[1;34m\"Banana\"\u001b[0m\u001b[1;33m:\u001b[0m\u001b[1;34m\"yellow\"\u001b[0m\u001b[1;33m}\u001b[0m\u001b[1;33m\u001b[0m\u001b[0m\n\u001b[0;32m      2\u001b[0m \u001b[0mfruits\u001b[0m\u001b[1;33m[\u001b[0m\u001b[1;34m\"Apple\"\u001b[0m\u001b[1;33m]\u001b[0m\u001b[1;33m\u001b[0m\u001b[0m\n\u001b[1;32m----> 3\u001b[1;33m \u001b[0mfruits\u001b[0m\u001b[1;33m[\u001b[0m\u001b[1;34m\"red\"\u001b[0m\u001b[1;33m]\u001b[0m\u001b[1;33m\u001b[0m\u001b[0m\n\u001b[0m",
      "\u001b[1;31mKeyError\u001b[0m: 'red'"
     ]
    }
   ],
   "source": [
    "fruits = {\"Apple\":\"red\",\"Banana\":\"yellow\"}\n",
    "fruits[\"Apple\"]\n",
    "fruits[\"red\"]"
   ]
  },
  {
   "cell_type": "code",
   "execution_count": null,
   "metadata": {},
   "outputs": [],
   "source": []
  },
  {
   "cell_type": "code",
   "execution_count": 32,
   "metadata": {},
   "outputs": [
    {
     "data": {
      "text/plain": [
       "{'1984': 'Orwell', 'Dracula': 'Stoker'}"
      ]
     },
     "execution_count": 32,
     "metadata": {},
     "output_type": "execute_result"
    }
   ],
   "source": [
    "books = {\"Dracula\": \"Stoker\",\n",
    "        \"1984\":\"Orwell\",\n",
    "        \"The Trial\":\"Kafka\"}\n",
    "del books[\"The Trial\"]\n",
    "\n",
    "books"
   ]
  },
  {
   "cell_type": "code",
   "execution_count": 60,
   "metadata": {},
   "outputs": [
    {
     "name": "stdout",
     "output_type": "stream",
     "text": [
      "['カニエ・ウェスト', 'ジェイ・z', 'エミネム', 'ナズ']\n",
      "['カニエ・ウェスト', 'ジェイ・z', 'エミネム', 'ナズ', 'ケンドリック・ラマー']\n",
      "[['カニエ・ウェスト', 'ジェイ・z', 'エミネム', 'ナズ', 'ケンドリック・ラマー'], ['ボブ・ディラン', 'ザ・ビートルズ', 'レッドツェッペリン'], ['ぜッズ・テッド', 'ティエスト']]\n"
     ]
    }
   ],
   "source": [
    "lists = []\n",
    "\n",
    "rap = [\"カニエ・ウェスト\",\"ジェイ・z\",\"エミネム\",\"ナズ\"]\n",
    "rock = [\"ボブ・ディラン\",\"ザ・ビートルズ\",\"レッドツェッペリン\"]\n",
    "djs = [\"ぜッズ・テッド\",\"ティエスト\"]\n",
    "\n",
    "lists.append(rap)\n",
    "lists.append(rock)\n",
    "lists.append(djs)\n",
    "\n",
    "lists\n",
    "\n",
    "rap = lists[0]\n",
    "print(rap)\n",
    "\n",
    "rap.append(\"ケンドリック・ラマー\")\n",
    "print(rap)\n",
    "print(lists)"
   ]
  },
  {
   "cell_type": "code",
   "execution_count": 38,
   "metadata": {},
   "outputs": [
    {
     "name": "stdout",
     "output_type": "stream",
     "text": [
      "[(34.0522, 188.2437), (41.8781, 87.6298)]\n"
     ]
    }
   ],
   "source": [
    "locations = []\n",
    "\n",
    "la = (34.0522,188.2437)\n",
    "chicago = (41.8781,87.6298)\n",
    "\n",
    "locations.append(la)\n",
    "locations.append(chicago)\n",
    "\n",
    "print(locations)"
   ]
  },
  {
   "cell_type": "code",
   "execution_count": 40,
   "metadata": {},
   "outputs": [
    {
     "name": "stdout",
     "output_type": "stream",
     "text": [
      "(['Edgar Allan Poe', 'Charles Dickens'], ['Hemingway', 'Fitzgerald', 'Orwell'])\n"
     ]
    }
   ],
   "source": [
    "eights = [\"Edgar Allan Poe\",\"Charles Dickens\"]\n",
    "nines = [\"Hemingway\",\"Fitzgerald\",\"Orwell\"]\n",
    "\n",
    "authors = (eights,nines)\n",
    "print(authors)"
   ]
  },
  {
   "cell_type": "code",
   "execution_count": 41,
   "metadata": {},
   "outputs": [
    {
     "name": "stdout",
     "output_type": "stream",
     "text": [
      "[{'Hemingway': '7.21.1899', 'Fitzgerald': '9.24.1896'}]\n",
      "({'Hemingway': '7.21.1899', 'Fitzgerald': '9.24.1896'},)\n"
     ]
    }
   ],
   "source": [
    "bday = {\"Hemingway\":\"7.21.1899\",\"Fitzgerald\":\"9.24.1896\"}\n",
    "\n",
    "my_list = [bday]\n",
    "print(my_list)\n",
    "my_tuple = (bday,)\n",
    "print(my_tuple)"
   ]
  },
  {
   "cell_type": "code",
   "execution_count": 67,
   "metadata": {},
   "outputs": [
    {
     "name": "stdout",
     "output_type": "stream",
     "text": [
      "40.7128\n"
     ]
    }
   ],
   "source": [
    "ny = {\n",
    "    \"座標\":(40.7128,74.0059),\n",
    "    \"セレブ\":{\"ウッディ・アレン\",\"ジェイ・Z\",\"ケヴィン・ベーコン\"},\n",
    "    \"事実\":{\n",
    "        \"州\":\"ニューヨーク\",\n",
    "        \"国\":\"アメリカ\"\n",
    "    }\n",
    "}\n",
    "\n",
    "my_lists = ny[\"座標\"]\n",
    "print(my_lists[0])"
   ]
  },
  {
   "cell_type": "code",
   "execution_count": 68,
   "metadata": {},
   "outputs": [
    {
     "data": {
      "text/plain": [
       "{'ASIAN KUNG-FU GENERATION', 'BUMP OF CHICKEN', 'ELLE GARDEN', 'RAD WIMPS'}"
      ]
     },
     "execution_count": 68,
     "metadata": {},
     "output_type": "execute_result"
    }
   ],
   "source": [
    "fav = {\"BUMP OF CHICKEN\",\"ASIAN KUNG-FU GENERATION\",\"ELLE GARDEN\",\"RAD WIMPS\"}\n",
    "fav"
   ]
  },
  {
   "cell_type": "code",
   "execution_count": 70,
   "metadata": {},
   "outputs": [
    {
     "data": {
      "text/plain": [
       "{('IsLand', 64.1301, -21.9246), ('ThaiLand', 13.7684, 100.5266)}"
      ]
     },
     "execution_count": 70,
     "metadata": {},
     "output_type": "execute_result"
    }
   ],
   "source": [
    "my_place = {(\"IsLand\",64.1301,-21.9246),(\"ThaiLand\",13.7684,100.5266)}\n",
    "my_place"
   ]
  },
  {
   "cell_type": "code",
   "execution_count": 87,
   "metadata": {},
   "outputs": [
    {
     "name": "stdout",
     "output_type": "stream",
     "text": [
      "キーを入力\n",
      "12\n",
      "キーはheights or weights or eyecolor\n"
     ]
    }
   ],
   "source": [
    "my_data = {\"heights\":178,\"weights\":60,\"eyecolor\":\"black\"}\n",
    "my_data[\"heights\"]\n",
    "\n",
    "print(\"キーを入力\")\n",
    "n=input()\n",
    "\n",
    "if n in my_data:\n",
    "    print(my_data[n])\n",
    "else:\n",
    "    print(\"キーはheights or weights or eyecolor\")"
   ]
  },
  {
   "cell_type": "code",
   "execution_count": 81,
   "metadata": {},
   "outputs": [
    {
     "data": {
      "text/plain": [
       "{'K', 'karma'}"
      ]
     },
     "execution_count": 81,
     "metadata": {},
     "output_type": "execute_result"
    }
   ],
   "source": [
    "fav_song = {\"BUMP OF CHICKEN\":{\"karma\",\"K\"},\n",
    "            \"ASIAN KUNG-FU GENERATION\":{\"ReRe\",\"loop and loop\"},\n",
    "            \"ELLE GARDEN\":{\"Fire Clacker\",\"starfish\"},\n",
    "            \"RAD WIMPS\":{\"septemberさん\",\"有心論\"}\n",
    "           }\n",
    "fav_song[\"BUMP OF CHICKEN\"]"
   ]
  },
  {
   "cell_type": "code",
   "execution_count": 85,
   "metadata": {},
   "outputs": [
    {
     "name": "stdout",
     "output_type": "stream",
     "text": [
      "{1, 2, 3, 100, 5}\n",
      "{2, 3}\n"
     ]
    }
   ],
   "source": [
    "my_set1 = ({1,2,3,100})\n",
    "my_set2 = ({2,3,5})\n",
    "\n",
    "my_set3 = my_set1 | my_set2\n",
    "print(my_set3)\n",
    "my_set4 = my_set1 & my_set2\n",
    "print(my_set4)"
   ]
  },
  {
   "cell_type": "code",
   "execution_count": null,
   "metadata": {},
   "outputs": [],
   "source": []
  }
 ],
 "metadata": {
  "kernelspec": {
   "display_name": "Python 3",
   "language": "python",
   "name": "python3"
  },
  "language_info": {
   "codemirror_mode": {
    "name": "ipython",
    "version": 3
   },
   "file_extension": ".py",
   "mimetype": "text/x-python",
   "name": "python",
   "nbconvert_exporter": "python",
   "pygments_lexer": "ipython3",
   "version": "3.5.6"
  }
 },
 "nbformat": 4,
 "nbformat_minor": 2
}
