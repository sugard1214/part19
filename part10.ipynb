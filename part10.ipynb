{
 "cells": [
  {
   "cell_type": "code",
   "execution_count": 4,
   "metadata": {},
   "outputs": [
    {
     "name": "stdout",
     "output_type": "stream",
     "text": [
      "ハングマンへようこそ！\n",
      "\n",
      "\n",
      "1文字を予想してねy\n",
      "_ y _ _ _ _\n",
      "\n",
      "\n",
      "\n",
      "1文字を予想してねP\n",
      "P y _ _ _ _\n",
      "\n",
      "\n",
      "\n",
      "1文字を予想してねt\n",
      "P y t _ _ _\n",
      "\n",
      "\n",
      "\n",
      "1文字を予想してねh\n",
      "P y t h _ _\n",
      "\n",
      "\n",
      "\n",
      "1文字を予想してねo\n",
      "P y t h o _\n",
      "\n",
      "\n",
      "\n",
      "1文字を予想してねn\n",
      "P y t h o n\n",
      "\n",
      "あなたの勝ち\n",
      "P y t h o n\n"
     ]
    }
   ],
   "source": [
    "import random\n",
    "\n",
    "def hangman(word):\n",
    "    word_list = [\"Python\", \"Java\", \"computer\", \"hacker\", \"painter\"]\n",
    "    random_number = random.randint(0, 4)\n",
    "    word = word_list[random_number]\n",
    "    wrong = 0\n",
    "    stages = [\"\",\n",
    "             \"________          \",\n",
    "             \"|             　　\",\n",
    "             \"|       |         \",\n",
    "             \"|      ○         \",\n",
    "             \"|      /|]        \",\n",
    "             \"|      / ]        \",\n",
    "             \"|                 \",\n",
    "             ]\n",
    "    rletters = list(word)\n",
    "    board = [\"_\"] * len(word)\n",
    "    win = False\n",
    "    print(\"ハングマンへようこそ！\")\n",
    "    \n",
    "\n",
    "    while wrong < len(stages) -1:\n",
    "        print(\"\\n\")\n",
    "        msg = \"1文字を予想してね\"\n",
    "        char = input(msg)\n",
    "        if char in rletters:\n",
    "            cind = rletters.index(char)\n",
    "            board[cind] = char\n",
    "            rletters[cind] = '$'\n",
    "        else:\n",
    "            wrong += 1\n",
    "        print(\" \".join(board))\n",
    "        e = wrong + 1\n",
    "        print(\"\\n\".join(stages[0:e]))\n",
    "        if \"_\" not in board:\n",
    "            print(\"あなたの勝ち\")\n",
    "            print(\" \".join(board))\n",
    "            win = True\n",
    "            break\n",
    "    if not win:\n",
    "        print(\"\\n\".join(stages[0:wrong+1]))\n",
    "        print(\"あなたの負け！正解は{}.\".format(word))\n",
    "        \n",
    "hangman(\"cat\")"
   ]
  },
  {
   "cell_type": "code",
   "execution_count": null,
   "metadata": {},
   "outputs": [],
   "source": []
  },
  {
   "cell_type": "code",
   "execution_count": null,
   "metadata": {},
   "outputs": [],
   "source": []
  }
 ],
 "metadata": {
  "kernelspec": {
   "display_name": "Python 3",
   "language": "python",
   "name": "python3"
  },
  "language_info": {
   "codemirror_mode": {
    "name": "ipython",
    "version": 3
   },
   "file_extension": ".py",
   "mimetype": "text/x-python",
   "name": "python",
   "nbconvert_exporter": "python",
   "pygments_lexer": "ipython3",
   "version": "3.5.6"
  }
 },
 "nbformat": 4,
 "nbformat_minor": 2
}
