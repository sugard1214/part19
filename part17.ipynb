{
 "cells": [
  {
   "cell_type": "code",
   "execution_count": 4,
   "metadata": {},
   "outputs": [
    {
     "name": "stdout",
     "output_type": "stream",
     "text": [
      "['Beautiful']\n"
     ]
    }
   ],
   "source": [
    "import re\n",
    "\n",
    "l = \"Beautiful is better than ugly.\"\n",
    "matches = re.findall(\"beautiful\",l,re.IGNORECASE)\n",
    "\n",
    "print(matches)"
   ]
  },
  {
   "cell_type": "code",
   "execution_count": 5,
   "metadata": {},
   "outputs": [
    {
     "name": "stdout",
     "output_type": "stream",
     "text": [
      "['Two', 'too']\n"
     ]
    }
   ],
   "source": [
    "import re\n",
    "\n",
    "string = \"Two too\"\n",
    "m= re.findall(\"t[ow]o\",string,re.IGNORECASE)\n",
    "print(m)"
   ]
  },
  {
   "cell_type": "code",
   "execution_count": 7,
   "metadata": {},
   "outputs": [
    {
     "name": "stdout",
     "output_type": "stream",
     "text": [
      "['1', '2', '3', '3', '4']\n"
     ]
    }
   ],
   "source": [
    "import re\n",
    "\n",
    "line = \"123 hi 34 hello.\"\n",
    "m = re.findall(\"\\d\", line ,re.IGNORECASE)\n",
    "print(m)"
   ]
  },
  {
   "cell_type": "code",
   "execution_count": 9,
   "metadata": {},
   "outputs": [
    {
     "name": "stdout",
     "output_type": "stream",
     "text": [
      "['If', 'If']\n"
     ]
    }
   ],
   "source": [
    "import re\n",
    "\n",
    "zen =\"\"\"Although never is \n",
    "often better than \n",
    "*right* now.\n",
    "If the implementation \n",
    "is hard to explain, \n",
    "it's a bad idea.\n",
    "If the implementation \n",
    "is easy to explain, \n",
    "it may be a good \n",
    "idea.Namespaces \n",
    "are one honking \n",
    "great idea -- let's \n",
    "do more of those!\"\"\"\n",
    "\n",
    "m = re.findall(\"^If\",zen,re.MULTILINE)\n",
    "print(m)\n"
   ]
  },
  {
   "cell_type": "code",
   "execution_count": 10,
   "metadata": {},
   "outputs": [
    {
     "name": "stdout",
     "output_type": "stream",
     "text": [
      "__one__ __two__ __three__\n"
     ]
    }
   ],
   "source": [
    "import re\n",
    "\n",
    "t =\"__one__ __two__ __three__\"\n",
    "found = re.findall(\"__.*__\", t)\n",
    "for match in found:\n",
    "    print(match)"
   ]
  },
  {
   "cell_type": "code",
   "execution_count": 1,
   "metadata": {},
   "outputs": [
    {
     "name": "stdout",
     "output_type": "stream",
     "text": [
      "__複数名詞__を入力:man\n",
      "\n",
      "\n",
      "キリンは大昔から man の興味の対象でした。キリンは __複数名詞__ の中で一番背が高いですが、科学者たちはそのような長い __体の一部__ をどうやって獲得したのか説明できません。キリンの身長は __数値__ __単位__ 近くあり、その高さのほとんどは脚と __体の一部__ によるものです。\n",
      "__複数名詞__を入力:動物\n",
      "\n",
      "\n",
      "キリンは大昔から man の興味の対象でした。キリンは 動物 の中で一番背が高いですが、科学者たちはそのような長い __体の一部__ をどうやって獲得したのか説明できません。キリンの身長は __数値__ __単位__ 近くあり、その高さのほとんどは脚と __体の一部__ によるものです。\n",
      "__体の一部__を入力:首\n",
      "\n",
      "\n",
      "キリンは大昔から man の興味の対象でした。キリンは 動物 の中で一番背が高いですが、科学者たちはそのような長い 首 をどうやって獲得したのか説明できません。キリンの身長は __数値__ __単位__ 近くあり、その高さのほとんどは脚と __体の一部__ によるものです。\n",
      "__数値__を入力:2\n",
      "\n",
      "\n",
      "キリンは大昔から man の興味の対象でした。キリンは 動物 の中で一番背が高いですが、科学者たちはそのような長い 首 をどうやって獲得したのか説明できません。キリンの身長は 2 __単位__ 近くあり、その高さのほとんどは脚と __体の一部__ によるものです。\n",
      "__単位__を入力:m\n",
      "\n",
      "\n",
      "キリンは大昔から man の興味の対象でした。キリンは 動物 の中で一番背が高いですが、科学者たちはそのような長い 首 をどうやって獲得したのか説明できません。キリンの身長は 2 m 近くあり、その高さのほとんどは脚と __体の一部__ によるものです。\n",
      "__体の一部__を入力:首\n",
      "\n",
      "\n",
      "キリンは大昔から man の興味の対象でした。キリンは 動物 の中で一番背が高いですが、科学者たちはそのような長い 首 をどうやって獲得したのか説明できません。キリンの身長は 2 m 近くあり、その高さのほとんどは脚と 首 によるものです。\n",
      "引数mlsが無効です\n"
     ]
    }
   ],
   "source": [
    "import re\n",
    "text = \"\"\"キリンは大昔から __複数名詞__ の興味の対象でした。キ\n",
    "リンは __複数名詞__ の中で一番背が高いですが、科学者たちはそのよ\n",
    "うな長い __体の一部__ をどうやって獲得したのか説明できません。キ\n",
    "リンの身長は __数値__ __単位__ 近くあり、その高さのほとんどは脚\n",
    "と __体の一部__ によるものです。\n",
    "\"\"\"\n",
    "\n",
    "def mad_libs(mls):\n",
    "    \"\"\"\n",
    "    :param mls: 文字列で、ユーザーに入力してもらいたい単語(=\n",
    "    ヒント)の部分はあとを2つのアンダースコアで挟んでください。ヒントの\n",
    "    単語にアンダースコアを含めないでください。__hint_hint__はだめです。\n",
    "    __hint__はOKです。\n",
    "    \"\"\"\n",
    "    hints = re.findall(\"__.*?__\",mls)\n",
    "    if hints is not None:\n",
    "        for word in hints:\n",
    "            q = \"{}を入力:\".format(word)\n",
    "            new = input(q)\n",
    "            mls = mls.replace(word,new,1)\n",
    "            print(\"\\n\")\n",
    "            mls = mls.replace(\"\\n\",\"\")\n",
    "            print(mls)\n",
    "        else:\n",
    "            print(\"引数mlsが無効です\")\n",
    "            \n",
    "mad_libs(text)"
   ]
  },
  {
   "cell_type": "code",
   "execution_count": 2,
   "metadata": {},
   "outputs": [
    {
     "name": "stdout",
     "output_type": "stream",
     "text": [
      "['$']\n"
     ]
    }
   ],
   "source": [
    "import re\n",
    "\n",
    "line = \"I love $\"\n",
    "m = re.findall(\"\\\\$\", line , re.IGNORECASE)\n",
    "print(m)"
   ]
  },
  {
   "cell_type": "code",
   "execution_count": 5,
   "metadata": {},
   "outputs": [
    {
     "name": "stdout",
     "output_type": "stream",
     "text": [
      "['Dutch']\n"
     ]
    }
   ],
   "source": [
    "import re\n",
    "\n",
    "zen =\"\"\"The Zen of Python, by Tim Peters\n",
    "Beautiful is better than ugly.\n",
    "Explicit is better than implicit.\n",
    "Simple is better than complex.\n",
    "Complex is better than complicated.\n",
    "Flat is better than nested.\n",
    "Sparse is better than dense.\n",
    "Readability counts.\n",
    "Special cases aren't special enough to break the rules.\n",
    "Although practicality beats purity.\n",
    "Errors should never pass silently.\n",
    "Unless explicitly silenced.\n",
    "In the face of ambiguity, refuse the temptation to guess.\n",
    "There should be one-- and preferably only one --obvious way to do it.\n",
    "Although that way may not be obvious at first unless you're Dutch.\n",
    "Now is better than never.\n",
    "Although never is \n",
    "often better than \n",
    "*right* now.\n",
    "If the implementation \n",
    "is hard to explain, \n",
    "it's a bad idea.\n",
    "If the implementation \n",
    "is easy to explain, \n",
    "it may be a good \n",
    "idea.Namespaces \n",
    "are one honking \n",
    "great idea -- let's \n",
    "do more of those!\"\"\"\n",
    "\n",
    "m = re.findall(\"Dutch\",zen,re.MULTILINE)\n",
    "print(m)\n"
   ]
  },
  {
   "cell_type": "code",
   "execution_count": 9,
   "metadata": {},
   "outputs": [
    {
     "name": "stdout",
     "output_type": "stream",
     "text": [
      "['4', '7', '9', '5', '0', '1', '8', '7', '0', '2', '0', '9', '2', '1', '3', '6', '5', '0']\n"
     ]
    }
   ],
   "source": [
    "import re\n",
    "\n",
    "moji = \"\"\"Arizona 479 \n",
    "501 870. California209\n",
    "213,650\n",
    "\"\"\"\n",
    "\n",
    "found = re.findall(\"\\d\",moji,re.IGNORECASE)\n",
    "print(found)"
   ]
  },
  {
   "cell_type": "code",
   "execution_count": 18,
   "metadata": {},
   "outputs": [
    {
     "name": "stdout",
     "output_type": "stream",
     "text": [
      "['boo', 'loo']\n"
     ]
    }
   ],
   "source": [
    "import re\n",
    "\n",
    "line = \"The ghost that says boo haunts the loo\"\n",
    "\n",
    "found = re.findall(\".oo\",line,re.IGNORECASE)\n",
    "print(found)"
   ]
  }
 ],
 "metadata": {
  "kernelspec": {
   "display_name": "Python 3",
   "language": "python",
   "name": "python3"
  },
  "language_info": {
   "codemirror_mode": {
    "name": "ipython",
    "version": 3
   },
   "file_extension": ".py",
   "mimetype": "text/x-python",
   "name": "python",
   "nbconvert_exporter": "python",
   "pygments_lexer": "ipython3",
   "version": "3.5.6"
  }
 },
 "nbformat": 4,
 "nbformat_minor": 2
}
