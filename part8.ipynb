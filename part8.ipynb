{
 "cells": [
  {
   "cell_type": "code",
   "execution_count": 2,
   "metadata": {},
   "outputs": [
    {
     "data": {
      "text/plain": [
       "32.0"
      ]
     },
     "execution_count": 2,
     "metadata": {},
     "output_type": "execute_result"
    }
   ],
   "source": [
    "import math\n",
    "math.pow(2,5)"
   ]
  },
  {
   "cell_type": "code",
   "execution_count": 11,
   "metadata": {},
   "outputs": [
    {
     "data": {
      "text/plain": [
       "2"
      ]
     },
     "execution_count": 11,
     "metadata": {},
     "output_type": "execute_result"
    }
   ],
   "source": [
    "import random\n",
    "random.randint(1,5)"
   ]
  },
  {
   "cell_type": "code",
   "execution_count": 16,
   "metadata": {},
   "outputs": [
    {
     "name": "stdout",
     "output_type": "stream",
     "text": [
      "18.857142857142858\n",
      "12\n",
      "33\n"
     ]
    }
   ],
   "source": [
    "import statistics\n",
    "\n",
    "#mean\n",
    "nums = [1,5,33,12,46,2,33]\n",
    "print(statistics.mean(nums))\n",
    "\n",
    "#median\n",
    "print(statistics.median(nums))\n",
    "\n",
    "#mode\n",
    "print(statistics.mode(nums))"
   ]
  },
  {
   "cell_type": "code",
   "execution_count": 20,
   "metadata": {},
   "outputs": [
    {
     "name": "stdout",
     "output_type": "stream",
     "text": [
      "True\n",
      "False\n"
     ]
    }
   ],
   "source": [
    "import keyword\n",
    "\n",
    "print(keyword.iskeyword(\"in\"))\n",
    "print(keyword.iskeyword(\"football\"))"
   ]
  },
  {
   "cell_type": "code",
   "execution_count": 38,
   "metadata": {},
   "outputs": [
    {
     "name": "stdout",
     "output_type": "stream",
     "text": [
      "hello\n"
     ]
    }
   ],
   "source": [
    "import hello\n",
    "\n",
    "hello.print_hello()"
   ]
  },
  {
   "cell_type": "code",
   "execution_count": 31,
   "metadata": {},
   "outputs": [
    {
     "name": "stdout",
     "output_type": "stream",
     "text": [
      "['',\n",
      " 'C:\\\\Users\\\\mamoru\\\\Anaconda3\\\\envs\\\\tensorflow\\\\python35.zip',\n",
      " 'C:\\\\Users\\\\mamoru\\\\Anaconda3\\\\envs\\\\tensorflow\\\\DLLs',\n",
      " 'C:\\\\Users\\\\mamoru\\\\Anaconda3\\\\envs\\\\tensorflow\\\\lib',\n",
      " 'C:\\\\Users\\\\mamoru\\\\Anaconda3\\\\envs\\\\tensorflow',\n",
      " 'C:\\\\Users\\\\mamoru\\\\Anaconda3\\\\envs\\\\tensorflow\\\\lib\\\\site-packages',\n",
      " 'C:\\\\Users\\\\mamoru\\\\Anaconda3\\\\envs\\\\tensorflow\\\\lib\\\\site-packages\\\\IPython\\\\extensions',\n",
      " 'C:\\\\Users\\\\mamoru\\\\.ipython',\n",
      " 'C:\\\\Users\\\\mamoru\\\\std',\n",
      " 'C:\\\\Users\\\\mamoru\\\\std']\n"
     ]
    }
   ],
   "source": [
    "import pprint\n",
    "import sys\n",
    "sys.path.append('C:\\\\Users\\\\mamoru\\\\std',)\n",
    "pprint.pprint(sys.path)"
   ]
  },
  {
   "cell_type": "code",
   "execution_count": 42,
   "metadata": {},
   "outputs": [
    {
     "name": "stdout",
     "output_type": "stream",
     "text": [
      "5\n",
      "5.5\n"
     ]
    }
   ],
   "source": [
    "list = [1,2,3,4,5,6,7,8,9,1011]\n",
    "\n",
    "import statistics\n",
    "\n",
    "print(statistics.median_low(list))\n",
    "print(statistics.median(list))"
   ]
  },
  {
   "cell_type": "code",
   "execution_count": 2,
   "metadata": {},
   "outputs": [
    {
     "data": {
      "text/plain": [
       "64"
      ]
     },
     "execution_count": 2,
     "metadata": {},
     "output_type": "execute_result"
    }
   ],
   "source": [
    "import cubed\n",
    "\n",
    "cubed.print_cubed(4)"
   ]
  },
  {
   "cell_type": "code",
   "execution_count": null,
   "metadata": {},
   "outputs": [],
   "source": []
  }
 ],
 "metadata": {
  "kernelspec": {
   "display_name": "Python 3",
   "language": "python",
   "name": "python3"
  },
  "language_info": {
   "codemirror_mode": {
    "name": "ipython",
    "version": 3
   },
   "file_extension": ".py",
   "mimetype": "text/x-python",
   "name": "python",
   "nbconvert_exporter": "python",
   "pygments_lexer": "ipython3",
   "version": "3.5.6"
  }
 },
 "nbformat": 4,
 "nbformat_minor": 2
}
