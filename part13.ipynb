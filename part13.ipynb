{
 "cells": [
  {
   "cell_type": "code",
   "execution_count": 1,
   "metadata": {},
   "outputs": [],
   "source": [
    "class Rectangle:\n",
    "    def __init__(self,w,l):\n",
    "        self.width = w\n",
    "        self.length = l\n",
    "        \n",
    "    def area(self):\n",
    "        return self.width * self.length"
   ]
  },
  {
   "cell_type": "code",
   "execution_count": 4,
   "metadata": {},
   "outputs": [
    {
     "name": "stdout",
     "output_type": "stream",
     "text": [
      "[100, 2, 3, 4, 5]\n",
      "[100, 2, 3, 4, 5]\n"
     ]
    }
   ],
   "source": [
    "class Data:\n",
    "    def __init__(self):\n",
    "        self.nums = [1,2,3,4,5]\n",
    "        \n",
    "    def change_data(self,index,n):\n",
    "        self.nums[index] = n\n",
    "        \n",
    "data_one = Data()\n",
    "data_one.change_data(0,100)\n",
    "print(data_one.nums)\n",
    "\n",
    "\n",
    "data_two = Data()\n",
    "data_two.nums[0] = 100\n",
    "print(data_two.nums)"
   ]
  },
  {
   "cell_type": "code",
   "execution_count": 5,
   "metadata": {},
   "outputs": [],
   "source": [
    "class PublicPrivateExample:\n",
    "    def __init__(self):\n",
    "        self.public = \"safe\"\n",
    "        self._unsafe = \"unsafe\"\n",
    "        \n",
    "    def public_methode(self):\n",
    "        pass\n",
    "    \n",
    "    def _unsafe_methode(self):\n",
    "        pass"
   ]
  },
  {
   "cell_type": "code",
   "execution_count": 13,
   "metadata": {},
   "outputs": [
    {
     "name": "stdout",
     "output_type": "stream",
     "text": [
      "20 by 25\n",
      "I am 20 by 20\n"
     ]
    }
   ],
   "source": [
    "class Shape:\n",
    "    def __init__(self,w,l):\n",
    "        self.width = w\n",
    "        self.length =l\n",
    "        \n",
    "    def print_size(self):\n",
    "        print(\"{} by {}\".format(self.width,self.length))\n",
    "\n",
    "class Square(Shape):\n",
    "    def area(self):\n",
    "        return self.width * self.length\n",
    "    \n",
    "    def print_size(self):\n",
    "        print(\"I am {} by {}\".format(self.width,self.length))\n",
    "\n",
    "a_shape = Shape(20,25)\n",
    "a_shape.print_size()\n",
    "a_square = Square(20,20)\n",
    "a_square.print_size()"
   ]
  },
  {
   "cell_type": "code",
   "execution_count": 16,
   "metadata": {},
   "outputs": [
    {
     "name": "stdout",
     "output_type": "stream",
     "text": [
      "Mick Jagger\n"
     ]
    }
   ],
   "source": [
    "class Dog:\n",
    "    def __init__(self,name,breed,owner):\n",
    "        self.nema = name\n",
    "        self.breed = breed\n",
    "        self.owner = owner\n",
    "        \n",
    "class Person:\n",
    "    def __init__(self,name):\n",
    "        self.name = name \n",
    "        \n",
    "mick = Person(\"Mick Jagger\")\n",
    "stan = Dog(\"Stanley\",\"Bulldog\",mick)\n",
    "print(stan.owner.name)"
   ]
  },
  {
   "cell_type": "code",
   "execution_count": 18,
   "metadata": {},
   "outputs": [
    {
     "name": "stdout",
     "output_type": "stream",
     "text": [
      "100\n",
      "120\n"
     ]
    }
   ],
   "source": [
    "class Rectangle:\n",
    "    def __init__(self,w,l):\n",
    "        self.width = w\n",
    "        self.length = l\n",
    "        \n",
    "    def calculate_perimeter(self):\n",
    "        return 2*(self.width + self.length)\n",
    "\n",
    "class Square:\n",
    "    def __init__(self,l):\n",
    "        self.length = l\n",
    "        \n",
    "    def calculate_perimeter(self):\n",
    "        return 4*self.length\n",
    "    \n",
    "rec = Rectangle(20,30)\n",
    "squ = Square(30)\n",
    "\n",
    "print(rec.calculate_perimeter())\n",
    "print(squ.calculate_perimeter())\n",
    "    "
   ]
  },
  {
   "cell_type": "code",
   "execution_count": 26,
   "metadata": {},
   "outputs": [
    {
     "name": "stdout",
     "output_type": "stream",
     "text": [
      "80\n",
      "15\n",
      "60\n"
     ]
    }
   ],
   "source": [
    "class Square:\n",
    "    def __init__(self,l):\n",
    "        self.length = l\n",
    "        \n",
    "    def calculate_perimeter(self):\n",
    "        return 4*self.length\n",
    "\n",
    "    def change_size(self,size):\n",
    "        self.length += size\n",
    "        \n",
    "squ = Square(20)\n",
    "print(squ.calculate_perimeter())\n",
    "\n",
    "squ.change_size(-5)\n",
    "print(squ.length)\n",
    "print(squ.calculate_perimeter())"
   ]
  },
  {
   "cell_type": "code",
   "execution_count": 27,
   "metadata": {},
   "outputs": [
    {
     "name": "stdout",
     "output_type": "stream",
     "text": [
      "I am a shape\n",
      "I am a shape\n"
     ]
    }
   ],
   "source": [
    "class Shape:\n",
    "    def __init__(self):\n",
    "        pass\n",
    "    \n",
    "    def what_am_I(self):\n",
    "        print(\"I am a shape\")\n",
    "\n",
    "        \n",
    "\n",
    "class Rectangle(Shape):\n",
    "    def __init__(self,w,l):\n",
    "        self.width = w\n",
    "        self.length = l\n",
    "        \n",
    "    def calculate_perimeter(self):\n",
    "        return 2*(self.width + self.length)\n",
    "\n",
    "class Square(Shape):\n",
    "    def __init__(self,l):\n",
    "        self.length = l\n",
    "        \n",
    "    def calculate_perimeter(self):\n",
    "        return 4*self.length\n",
    "\n",
    "rec = Rectangle(20,30)\n",
    "squ = Square(30)\n",
    "\n",
    "rec.what_am_I()\n",
    "squ.what_am_I()\n",
    "    "
   ]
  },
  {
   "cell_type": "code",
   "execution_count": 46,
   "metadata": {},
   "outputs": [
    {
     "name": "stdout",
     "output_type": "stream",
     "text": [
      "sato\n"
     ]
    }
   ],
   "source": [
    "class Horse:\n",
    "    def __init__(self,name,rider,year):\n",
    "        self.name = name\n",
    "        self.rider = rider\n",
    "        self.year = year\n",
    "    \n",
    "class Rider:\n",
    "    def __init__(self,name,horse,year):\n",
    "        self.name = name\n",
    "        self.horse = horse\n",
    "        self.year = year\n",
    "    \n",
    "\n",
    "rid = Rider(\"sato\",\"UMA\",20)    \n",
    "hor = Horse(\"uma1\",rid,12)\n",
    "\n",
    "print(hor.rider.name)"
   ]
  },
  {
   "cell_type": "code",
   "execution_count": null,
   "metadata": {},
   "outputs": [],
   "source": []
  }
 ],
 "metadata": {
  "kernelspec": {
   "display_name": "Python 3",
   "language": "python",
   "name": "python3"
  },
  "language_info": {
   "codemirror_mode": {
    "name": "ipython",
    "version": 3
   },
   "file_extension": ".py",
   "mimetype": "text/x-python",
   "name": "python",
   "nbconvert_exporter": "python",
   "pygments_lexer": "ipython3",
   "version": "3.5.6"
  }
 },
 "nbformat": 4,
 "nbformat_minor": 2
}
