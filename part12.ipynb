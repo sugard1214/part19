{
 "cells": [
  {
   "cell_type": "code",
   "execution_count": 2,
   "metadata": {},
   "outputs": [
    {
     "data": {
      "text/plain": [
       "14"
      ]
     },
     "execution_count": 2,
     "metadata": {},
     "output_type": "execute_result"
    }
   ],
   "source": [
    "x=2\n",
    "y=4\n",
    "z=8\n",
    "xyz = x + y + z\n",
    "xyz"
   ]
  },
  {
   "cell_type": "code",
   "execution_count": 3,
   "metadata": {},
   "outputs": [
    {
     "name": "stdout",
     "output_type": "stream",
     "text": [
      "p か jのどちらかを入力してください。qで終わります:p\n",
      "曲名を入力してください：asad\n",
      "p か jのどちらかを入力してください。qで終わります:j\n",
      "曲名を入力してください：df\n",
      "p か jのどちらかを入力してください。qで終わります:q\n",
      "pop songs: ['asad']\n",
      "jpop songs:  ['df']\n"
     ]
    }
   ],
   "source": [
    "pop = [] #洋楽ポップソングを保存するリスト\n",
    "jpop = [] #JPopソングを保存するリスト\n",
    "\n",
    "def collect_songs():\n",
    "    song = \"曲名を入力してください：\"\n",
    "    ask = \"p か jのどちらかを入力してください。qで終わります:\"\n",
    "    \n",
    "    while True:\n",
    "        genre = input(ask)\n",
    "        if genre == \"q\":\n",
    "            break\n",
    "            \n",
    "            \n",
    "        if genre == \"p\":\n",
    "            p = input(song)\n",
    "            pop.append(p)\n",
    "            \n",
    "        elif genre == \"j\":\n",
    "            j = input(song)\n",
    "            jpop.append(j)\n",
    "            \n",
    "        else:\n",
    "            print(\"不正な値です\")\n",
    "    print(\"pop songs:\",pop)\n",
    "    print(\"jpop songs: \",jpop)\n",
    "    \n",
    "collect_songs()"
   ]
  },
  {
   "cell_type": "code",
   "execution_count": 1,
   "metadata": {},
   "outputs": [],
   "source": [
    "a = 0\n",
    "\n",
    "def increment():\n",
    "    global a\n",
    "    a += 1\n"
   ]
  },
  {
   "cell_type": "code",
   "execution_count": 2,
   "metadata": {},
   "outputs": [],
   "source": [
    "def increment(a):\n",
    "    return a + 1"
   ]
  },
  {
   "cell_type": "code",
   "execution_count": 8,
   "metadata": {},
   "outputs": [
    {
     "name": "stdout",
     "output_type": "stream",
     "text": [
      "Created\n",
      "<__main__.Orange object at 0x00000285673276A0>\n",
      "10\n",
      "dark orange\n"
     ]
    }
   ],
   "source": [
    "class Orange:\n",
    "    def __init__(self,w,c):\n",
    "        self.weight = w\n",
    "        self.color = c\n",
    "        print(\"Created\")\n",
    "\n",
    "or1 = Orange(10,\"dark orange\")\n",
    "print(or1)\n",
    "print(or1.weight)\n",
    "print(or1.color)"
   ]
  },
  {
   "cell_type": "code",
   "execution_count": 9,
   "metadata": {},
   "outputs": [
    {
     "name": "stdout",
     "output_type": "stream",
     "text": [
      "Created\n",
      "Created\n",
      "Created\n"
     ]
    }
   ],
   "source": [
    "class Orange:\n",
    "    def __init__(self,w,c):\n",
    "        self.weight = w\n",
    "        self.color = c\n",
    "        print(\"Created\")\n",
    "\n",
    "or1 = Orange(4,\"light orange\")\n",
    "or2 = Orange(8,\"dark orange\")\n",
    "or3 = Orange(14,\"yellow\")"
   ]
  },
  {
   "cell_type": "code",
   "execution_count": 13,
   "metadata": {},
   "outputs": [
    {
     "name": "stdout",
     "output_type": "stream",
     "text": [
      "Created\n",
      "10\n",
      "dark Orange\n"
     ]
    }
   ],
   "source": [
    "class Orange:\n",
    "    def __init__(self,w,c):\n",
    "        self.weight = w\n",
    "        self.color = c\n",
    "        print(\"Created\")\n",
    "\n",
    "or1 = Orange(4,\"light orange\")\n",
    "or1.weight = 10\n",
    "or1.color = \"dark Orange\"\n",
    "print(or1.weight)\n",
    "print(or1.color)"
   ]
  },
  {
   "cell_type": "code",
   "execution_count": 26,
   "metadata": {},
   "outputs": [
    {
     "name": "stdout",
     "output_type": "stream",
     "text": [
      "Created!\n",
      "0\n",
      "370\n"
     ]
    }
   ],
   "source": [
    "class Orange:\n",
    "    def __init__(self,w,c):\n",
    "        \"\"\"weightはグラム\"\"\"\n",
    "        self.width = w\n",
    "        self.color = c\n",
    "        self.mold = 0\n",
    "        print(\"Created!\")\n",
    "    \n",
    "    def rot(self,days,temp):\n",
    "        \"\"\"tempは摂氏\"\"\"\n",
    "        self.mold = days * temp\n",
    "        \n",
    "orange = Orange(200,\"orange\")\n",
    "print(orange.mold)\n",
    "orange.rot(10,37)\n",
    "print(orange.mold)"
   ]
  },
  {
   "cell_type": "code",
   "execution_count": 29,
   "metadata": {},
   "outputs": [
    {
     "name": "stdout",
     "output_type": "stream",
     "text": [
      "200\n",
      "800\n"
     ]
    }
   ],
   "source": [
    "class Rectangle:\n",
    "    def __init__(self,w,l):\n",
    "        self.width = w\n",
    "        self.len = l\n",
    "        \n",
    "    def area(self):\n",
    "        return self.width * self.len\n",
    "    \n",
    "    def change_size(self,w,l):\n",
    "        self.width = w\n",
    "        self.len = l\n",
    "        \n",
    "rectangle = Rectangle(10,20)\n",
    "print(rectangle.area())\n",
    "rectangle.change_size(20,40)\n",
    "print(rectangle.area())"
   ]
  },
  {
   "cell_type": "code",
   "execution_count": 30,
   "metadata": {},
   "outputs": [],
   "source": [
    "class Apple:\n",
    "    def __init__(self,c,w,s,m):\n",
    "        self.color = c\n",
    "        self.weight = w\n",
    "        self.size = s\n",
    "        self.mold = m\n"
   ]
  },
  {
   "cell_type": "code",
   "execution_count": 37,
   "metadata": {},
   "outputs": [
    {
     "name": "stdout",
     "output_type": "stream",
     "text": [
      "12.566370614359172\n"
     ]
    }
   ],
   "source": [
    "import math\n",
    "\n",
    "class Circle:\n",
    "    def __init__(self,r):\n",
    "        self.round = r\n",
    "        \n",
    "    def area(self):\n",
    "        return math.pi * self.round ** 2 /4.0  \n",
    "    \n",
    "    \n",
    "circle = Circle(4)\n",
    "print(circle.area())"
   ]
  },
  {
   "cell_type": "code",
   "execution_count": 41,
   "metadata": {},
   "outputs": [
    {
     "name": "stdout",
     "output_type": "stream",
     "text": [
      "10.0\n"
     ]
    }
   ],
   "source": [
    "class Triangle():\n",
    "    def __init__(self,b,h):\n",
    "        self.base = b\n",
    "        self.height = h\n",
    "        \n",
    "    def area(self):\n",
    "        return self.base * self.height /2.0\n",
    "    \n",
    "tri = Triangle(4,5)\n",
    "print(tri.area())"
   ]
  },
  {
   "cell_type": "code",
   "execution_count": 43,
   "metadata": {},
   "outputs": [
    {
     "name": "stdout",
     "output_type": "stream",
     "text": [
      "21\n"
     ]
    }
   ],
   "source": [
    "class Hexagon():\n",
    "    def __init__(self,l1,l2,l3,l4,l5,l6):\n",
    "        self.length1 = l1\n",
    "        self.length2 = l2\n",
    "        self.length3 = l3\n",
    "        self.length4 = l4\n",
    "        self.length5 = l5\n",
    "        self.length6 = l6\n",
    "\n",
    "        \n",
    "    def calculate_perimeter(self):\n",
    "        return self.length1 + self.length2 + self.length3 +self.length4+self.length5+self.length6\n",
    "    \n",
    "hex = Hexagon(1,2,3,4,5,6)\n",
    "print(hex.calculate_perimeter())"
   ]
  }
 ],
 "metadata": {
  "kernelspec": {
   "display_name": "Python 3",
   "language": "python",
   "name": "python3"
  },
  "language_info": {
   "codemirror_mode": {
    "name": "ipython",
    "version": 3
   },
   "file_extension": ".py",
   "mimetype": "text/x-python",
   "name": "python",
   "nbconvert_exporter": "python",
   "pygments_lexer": "ipython3",
   "version": "3.5.6"
  }
 },
 "nbformat": 4,
 "nbformat_minor": 2
}
