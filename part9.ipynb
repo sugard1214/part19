{
 "cells": [
  {
   "cell_type": "code",
   "execution_count": 1,
   "metadata": {},
   "outputs": [
    {
     "data": {
      "text/plain": [
       "'Users\\\\mamoru\\\\std\\\\test.txt'"
      ]
     },
     "execution_count": 1,
     "metadata": {},
     "output_type": "execute_result"
    }
   ],
   "source": [
    "import os\n",
    "\n",
    "os.path.join(\"Users\",\"mamoru\",\"std\",\"test.txt\")"
   ]
  },
  {
   "cell_type": "code",
   "execution_count": 2,
   "metadata": {},
   "outputs": [],
   "source": [
    "st = open(\"st.txt\",\"w\")\n",
    "st.write(\"Hi from python\")\n",
    "st.close()"
   ]
  },
  {
   "cell_type": "code",
   "execution_count": 4,
   "metadata": {},
   "outputs": [],
   "source": [
    "st = open(\"st.txt\",\"w\",encoding=\"utf-8\")\n",
    "st.write(\"こんにちは\")\n",
    "st.close()"
   ]
  },
  {
   "cell_type": "code",
   "execution_count": 5,
   "metadata": {},
   "outputs": [],
   "source": [
    "with open(\"st.txt\",\"w\") as f:\n",
    "    f.write(\"Hi from python\")"
   ]
  },
  {
   "cell_type": "code",
   "execution_count": 6,
   "metadata": {},
   "outputs": [
    {
     "name": "stdout",
     "output_type": "stream",
     "text": [
      "Hi from python\n"
     ]
    }
   ],
   "source": [
    "with open(\"st.txt\",\"r\") as f:\n",
    "    print(f.read())"
   ]
  },
  {
   "cell_type": "code",
   "execution_count": 8,
   "metadata": {},
   "outputs": [
    {
     "name": "stdout",
     "output_type": "stream",
     "text": [
      "['Hi from python']\n"
     ]
    }
   ],
   "source": [
    "my_list = []\n",
    "\n",
    "with open(\"st.txt\",\"r\") as f:\n",
    "    my_list.append(f.read())\n",
    "\n",
    "print(my_list)"
   ]
  },
  {
   "cell_type": "code",
   "execution_count": 10,
   "metadata": {},
   "outputs": [],
   "source": [
    "with open(\"self_taught.csv\",\"w\") as f:\n",
    "    f.write(\"one,two,three,four,five,six\")"
   ]
  },
  {
   "cell_type": "code",
   "execution_count": 11,
   "metadata": {},
   "outputs": [],
   "source": [
    "import csv\n",
    "\n",
    "with open(\"st.csv\",\"w\",newline =\"\")as f:\n",
    "    w = csv.writer(f,delimiter=\",\")\n",
    "    w.writerow([\"one\",\"two\",\"three\"])\n",
    "    w.writerow([\"four\",\"five\",\"six\"])"
   ]
  },
  {
   "cell_type": "code",
   "execution_count": 12,
   "metadata": {},
   "outputs": [
    {
     "name": "stdout",
     "output_type": "stream",
     "text": [
      "one,two,three\n",
      "four,five,six\n"
     ]
    }
   ],
   "source": [
    "import csv\n",
    "\n",
    "with open(\"st.csv\",\"r\") as f:\n",
    "    r = csv.reader(f,delimiter=\",\")\n",
    "    for row in r:\n",
    "        print(\",\".join(row))"
   ]
  },
  {
   "cell_type": "code",
   "execution_count": 14,
   "metadata": {},
   "outputs": [
    {
     "name": "stdout",
     "output_type": "stream",
     "text": [
      "python python 1 232r rwr\n"
     ]
    }
   ],
   "source": [
    "with open(\"text.txt\",\"r\",encoding = \"UTF-8\") as f:\n",
    "    print(f.read())"
   ]
  },
  {
   "cell_type": "code",
   "execution_count": 15,
   "metadata": {},
   "outputs": [
    {
     "name": "stdout",
     "output_type": "stream",
     "text": [
      "what's your name?mamoru\n"
     ]
    }
   ],
   "source": [
    "n= input(\"what's your name?\")\n",
    "with open(\"challenge2.txt\",\"w\") as f:\n",
    "    f.write(n)"
   ]
  },
  {
   "cell_type": "code",
   "execution_count": 28,
   "metadata": {},
   "outputs": [],
   "source": [
    "import csv\n",
    "\n",
    "list = [[\"Top Gun\",\"Risky Business\",\"Minority Report\"],[\"Titanic\",\"The Revenant\",\"Inception\"],[\"Training Day\",\"Man on Fire\",\"Flight\"]]\n",
    "with open(\"list1.csv\",\"w\",newline = \"\")as f:\n",
    "    w = csv.writer(f,delimiter=\",\")\n",
    "    w.writerow(list[0])\n",
    "    w.writerow(list[1])\n",
    "    w.writerow(list[2])     "
   ]
  },
  {
   "cell_type": "code",
   "execution_count": 29,
   "metadata": {},
   "outputs": [],
   "source": [
    "import csv\n",
    "\n",
    "list = [[\"トップガン\",\"リスキー・ビジネス\",\"マイノリティ・リポート\"],[\"タイタニック\",\"ザ・レブナント\",\"インセプション\"],[\"トレーニングデイ\",\"マンオンファイヤ\",\"フライト\"]]\n",
    "with open(\"list2.csv\",\"w\",encoding = \"UTF-8\",newline = \"\")as f:\n",
    "    w = csv.writer(f,delimiter=\",\")\n",
    "    w.writerow(list[0])\n",
    "    w.writerow(list[1])\n",
    "    w.writerow(list[2])     "
   ]
  },
  {
   "cell_type": "code",
   "execution_count": null,
   "metadata": {},
   "outputs": [],
   "source": []
  }
 ],
 "metadata": {
  "kernelspec": {
   "display_name": "Python 3",
   "language": "python",
   "name": "python3"
  },
  "language_info": {
   "codemirror_mode": {
    "name": "ipython",
    "version": 3
   },
   "file_extension": ".py",
   "mimetype": "text/x-python",
   "name": "python",
   "nbconvert_exporter": "python",
   "pygments_lexer": "ipython3",
   "version": "3.5.6"
  }
 },
 "nbformat": 4,
 "nbformat_minor": 2
}
