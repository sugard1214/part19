{
 "cells": [
  {
   "cell_type": "code",
   "execution_count": 2,
   "metadata": {},
   "outputs": [
    {
     "name": "stdout",
     "output_type": "stream",
     "text": [
      "T\n",
      "e\n",
      "d\n"
     ]
    }
   ],
   "source": [
    "name = \"Ted\"\n",
    "for character in name:\n",
    "    print(character)"
   ]
  },
  {
   "cell_type": "code",
   "execution_count": 7,
   "metadata": {},
   "outputs": [
    {
     "name": "stdout",
     "output_type": "stream",
     "text": [
      "GOT\n",
      "Nacros\n",
      "Vice\n"
     ]
    }
   ],
   "source": [
    "shows = [\"GOT\",\"Nacros\",\"Vice\"]\n",
    "for show in shows:\n",
    "    print(show)\n",
    "         "
   ]
  },
  {
   "cell_type": "code",
   "execution_count": 9,
   "metadata": {},
   "outputs": [
    {
     "name": "stdout",
     "output_type": "stream",
     "text": [
      "A.Development\n",
      "Friends\n",
      "Always Sunny\n"
     ]
    }
   ],
   "source": [
    "coms = (\"A.Development\",\"Friends\",\"Always Sunny\")\n",
    "for show in coms:\n",
    "    print(show)"
   ]
  },
  {
   "cell_type": "code",
   "execution_count": 10,
   "metadata": {},
   "outputs": [
    {
     "name": "stdout",
     "output_type": "stream",
     "text": [
      "G.Bluth II\n",
      "Barney\n",
      "Dennis\n"
     ]
    }
   ],
   "source": [
    "people = {\"G.Bluth II\":\"A.Developement\",\n",
    "         \"Barney\":\"HiMYM\",\n",
    "         \"Dennis\":\"Always Sunny\",\n",
    "          }\n",
    "\n",
    "for character in people:\n",
    "    print(character)"
   ]
  },
  {
   "cell_type": "code",
   "execution_count": 13,
   "metadata": {},
   "outputs": [
    {
     "name": "stdout",
     "output_type": "stream",
     "text": [
      "['GOT', 'NARCOS', 'VICE']\n"
     ]
    }
   ],
   "source": [
    "tv = [\"Got\",\"Narcos\",\"Vice\"]\n",
    "i = 0\n",
    "for show in tv:\n",
    "    new = tv[i]\n",
    "    new = new.upper()\n",
    "    tv[i] = new\n",
    "    i += 1\n",
    "    \n",
    "print(tv)"
   ]
  },
  {
   "cell_type": "code",
   "execution_count": 19,
   "metadata": {},
   "outputs": [
    {
     "name": "stdout",
     "output_type": "stream",
     "text": [
      "['GOT', 'NACROS', 'VICE']\n"
     ]
    }
   ],
   "source": [
    "tv = [\"GOT\",\"Nacros\",\"Vice\"]\n",
    "for i, new in enumerate(tv):\n",
    "    new = tv[i]\n",
    "    new = new.upper()\n",
    "    tv[i] = new\n",
    "    \n",
    "print(tv)"
   ]
  },
  {
   "cell_type": "code",
   "execution_count": 27,
   "metadata": {},
   "outputs": [
    {
     "name": "stdout",
     "output_type": "stream",
     "text": [
      "['GOT', 'NACROS', 'VICE', 'ARRESTED DEVELOPEMENT', 'FRIENDS', 'ALWAYS SUNNY']\n"
     ]
    }
   ],
   "source": [
    "tv = [\"GOT\",\"Nacros\",\"Vice\"]\n",
    "coms = [\"Arrested Developement\", \"friends\",\"Always sunny\"]\n",
    "all_shows = []\n",
    "\n",
    "for show in tv:\n",
    "    show = show.upper()\n",
    "    all_shows.append(show)\n",
    "\n",
    "for show in coms:\n",
    "    show = show.upper()\n",
    "    all_shows.append(show)\n",
    "\n",
    "print(all_shows)"
   ]
  },
  {
   "cell_type": "code",
   "execution_count": 3,
   "metadata": {},
   "outputs": [
    {
     "name": "stdout",
     "output_type": "stream",
     "text": [
      "1\n",
      "2\n",
      "3\n",
      "4\n",
      "5\n",
      "6\n",
      "7\n",
      "8\n",
      "9\n"
     ]
    }
   ],
   "source": [
    "for i in range(1,10):\n",
    "    print(i)"
   ]
  },
  {
   "cell_type": "code",
   "execution_count": 6,
   "metadata": {},
   "outputs": [
    {
     "name": "stdout",
     "output_type": "stream",
     "text": [
      "10\n",
      "9\n",
      "8\n",
      "7\n",
      "6\n",
      "5\n",
      "4\n",
      "3\n",
      "2\n",
      "1\n",
      "happy new year\n"
     ]
    }
   ],
   "source": [
    "x = 10\n",
    "while x > 0:\n",
    "    print(\"{}\".format(x))\n",
    "    x -= 1\n",
    "    \n",
    "print(\"happy new year\")"
   ]
  },
  {
   "cell_type": "code",
   "execution_count": 9,
   "metadata": {},
   "outputs": [],
   "source": [
    "while False:\n",
    "    print(\"HelloWorld\")"
   ]
  },
  {
   "cell_type": "code",
   "execution_count": 11,
   "metadata": {},
   "outputs": [
    {
     "name": "stdout",
     "output_type": "stream",
     "text": [
      "1\n"
     ]
    }
   ],
   "source": [
    "for i in range(1,100):\n",
    "    print(i)\n",
    "    break"
   ]
  },
  {
   "cell_type": "code",
   "execution_count": 14,
   "metadata": {},
   "outputs": [
    {
     "name": "stdout",
     "output_type": "stream",
     "text": [
      "type q to quit\n",
      "what is your name?sato\n",
      "type q to quit\n",
      "what is your fav. color?black\n",
      "type q to quit\n",
      "what is your quest?as\n",
      "type q to quit\n",
      "what is your name?q\n"
     ]
    }
   ],
   "source": [
    "qs = [\"what is your name?\",\n",
    "      \"what is your fav. color?\",\n",
    "      \"what is your quest?\"]\n",
    "n = 0\n",
    "while True:\n",
    "    print(\"type q to quit\")\n",
    "    a = input(qs[n])\n",
    "    if a == \"q\":\n",
    "        break\n",
    "    n = (n + 1) % 3\n",
    "    "
   ]
  },
  {
   "cell_type": "code",
   "execution_count": 19,
   "metadata": {},
   "outputs": [
    {
     "name": "stdout",
     "output_type": "stream",
     "text": [
      "1\n",
      "2\n",
      "4\n",
      "5\n"
     ]
    }
   ],
   "source": [
    "for i in range(1,6):\n",
    "    if i == 3:\n",
    "        continue      \n",
    "    print(i)"
   ]
  },
  {
   "cell_type": "code",
   "execution_count": 23,
   "metadata": {},
   "outputs": [
    {
     "name": "stdout",
     "output_type": "stream",
     "text": [
      "1\n",
      "2\n",
      "4\n",
      "5\n"
     ]
    }
   ],
   "source": [
    "i = 1\n",
    "while i < 6:\n",
    "    if i == 3:\n",
    "        i += 1\n",
    "        continue\n",
    "    print(i)\n",
    "    i += 1"
   ]
  },
  {
   "cell_type": "code",
   "execution_count": 24,
   "metadata": {},
   "outputs": [
    {
     "name": "stdout",
     "output_type": "stream",
     "text": [
      "1\n",
      "a\n",
      "b\n",
      "c\n",
      "2\n",
      "a\n",
      "b\n",
      "c\n"
     ]
    }
   ],
   "source": [
    "for i in range(1,3):\n",
    "    print(i)\n",
    "    for letter in [\"a\",\"b\",\"c\"]:\n",
    "        print(letter)"
   ]
  },
  {
   "cell_type": "code",
   "execution_count": 25,
   "metadata": {},
   "outputs": [
    {
     "name": "stdout",
     "output_type": "stream",
     "text": [
      "[6, 7, 8, 9, 7, 8, 9, 10, 8, 9, 10, 11, 9, 10, 11, 12]\n"
     ]
    }
   ],
   "source": [
    "list1 = [1,2,3,4]\n",
    "list2 = [5,6,7,8]\n",
    "added = []\n",
    "for i in list1:\n",
    "    for j in list2:\n",
    "        added.append(i + j)\n",
    "        \n",
    "\n",
    "print(added)"
   ]
  },
  {
   "cell_type": "code",
   "execution_count": 27,
   "metadata": {},
   "outputs": [
    {
     "name": "stdout",
     "output_type": "stream",
     "text": [
      "y or n?:q\n",
      "1\n",
      "2\n",
      "3\n",
      "4\n",
      "5\n",
      "y or n?:w\n",
      "1\n",
      "2\n",
      "3\n",
      "4\n",
      "5\n",
      "y or n?:tr\n",
      "1\n",
      "2\n",
      "3\n",
      "4\n",
      "5\n",
      "y or n?:y\n",
      "1\n",
      "2\n",
      "3\n",
      "4\n",
      "5\n",
      "y or n?:n\n"
     ]
    }
   ],
   "source": [
    "while input(\"y or n?:\") != \"n\":\n",
    "    for i in range(1,6):\n",
    "        print(i)\n"
   ]
  },
  {
   "cell_type": "code",
   "execution_count": 28,
   "metadata": {},
   "outputs": [
    {
     "name": "stdout",
     "output_type": "stream",
     "text": [
      "ウォーキング・デッド\n",
      "アントラージュ\n",
      "ザ・ソプラノズ\n",
      "ヴァンパイア・ダイアリーズ\n"
     ]
    }
   ],
   "source": [
    "list = [\"ウォーキング・デッド\",\"アントラージュ\",\"ザ・ソプラノズ\",\"ヴァンパイア・ダイアリーズ\"]\n",
    "for i in list:\n",
    "    print(i)"
   ]
  },
  {
   "cell_type": "code",
   "execution_count": 29,
   "metadata": {},
   "outputs": [
    {
     "name": "stdout",
     "output_type": "stream",
     "text": [
      "25\n",
      "26\n",
      "27\n",
      "28\n",
      "29\n",
      "30\n",
      "31\n",
      "32\n",
      "33\n",
      "34\n",
      "35\n",
      "36\n",
      "37\n",
      "38\n",
      "39\n",
      "40\n",
      "41\n",
      "42\n",
      "43\n",
      "44\n",
      "45\n",
      "46\n",
      "47\n",
      "48\n",
      "49\n",
      "50\n"
     ]
    }
   ],
   "source": [
    "for i in range(25,51):\n",
    "    print(i)"
   ]
  },
  {
   "cell_type": "code",
   "execution_count": 1,
   "metadata": {},
   "outputs": [
    {
     "name": "stdout",
     "output_type": "stream",
     "text": [
      "0 ウォーキング・デッド\n",
      "1 アントラージュ\n",
      "2 ザ・ソプラノズ\n",
      "3 ヴァンパイア・ダイアリーズ\n"
     ]
    }
   ],
   "source": [
    "list = [\"ウォーキング・デッド\",\"アントラージュ\",\"ザ・ソプラノズ\",\"ヴァンパイア・ダイアリーズ\"]\n",
    "for i, j in enumerate (list):\n",
    "    print(i,j)"
   ]
  },
  {
   "cell_type": "code",
   "execution_count": 6,
   "metadata": {},
   "outputs": [
    {
     "name": "stdout",
     "output_type": "stream",
     "text": [
      "文字を入力1\n",
      "正解\n",
      "文字を入力2\n",
      "不正解\n",
      "文字を入力4\n",
      "正解\n",
      "文字を入力67\n",
      "正解\n",
      "文字を入力23\n",
      "不正解\n",
      "文字を入力q\n"
     ]
    }
   ],
   "source": [
    "ans = [1,4,67]\n",
    "\n",
    "while True:\n",
    "    i = input(\"文字を入力\")\n",
    "\n",
    "    if i == \"q\":\n",
    "        break\n",
    "\n",
    "    if i.isdigit() == False :\n",
    "        print(\"数字かqを入力してください\")\n",
    "    \n",
    "    if int(i) in ans:\n",
    "        print(\"正解\")\n",
    "    \n",
    "    else:\n",
    "        print(\"不正解\")\n"
   ]
  },
  {
   "cell_type": "code",
   "execution_count": 4,
   "metadata": {},
   "outputs": [
    {
     "name": "stdout",
     "output_type": "stream",
     "text": [
      "[72, 8, 264, 664, 81, 9, 297, 747, 1332, 148, 4884, 12284, 36, 4, 132, 332]\n"
     ]
    }
   ],
   "source": [
    "list1 = [8,9,148,4]\n",
    "list2 = [9,1,33,83]\n",
    "ans = []\n",
    "\n",
    "for i in list1:\n",
    "    for j in list2:\n",
    "        ans.append(i*j)\n",
    "        \n",
    "        \n",
    "print(ans)"
   ]
  },
  {
   "cell_type": "code",
   "execution_count": null,
   "metadata": {},
   "outputs": [],
   "source": []
  }
 ],
 "metadata": {
  "kernelspec": {
   "display_name": "Python 3",
   "language": "python",
   "name": "python3"
  },
  "language_info": {
   "codemirror_mode": {
    "name": "ipython",
    "version": 3
   },
   "file_extension": ".py",
   "mimetype": "text/x-python",
   "name": "python",
   "nbconvert_exporter": "python",
   "pygments_lexer": "ipython3",
   "version": "3.5.6"
  }
 },
 "nbformat": 4,
 "nbformat_minor": 2
}
